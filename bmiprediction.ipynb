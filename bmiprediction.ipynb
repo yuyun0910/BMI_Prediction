{
 "cells": [
  {
   "cell_type": "markdown",
   "id": "6f1e311a-f8d9-47f0-9c38-a7402d8f1eff",
   "metadata": {},
   "source": [
    "data_file = 'bmi.csv'\n",
    "!powershell cat $data_file -First 3"
   ]
  },
  {
   "cell_type": "markdown",
   "id": "2ab227a3-e11b-4cda-8452-ff8606f7c180",
   "metadata": {},
   "source": [
    "import numpy as np\n",
    "import pandas as pd\n",
    "import matplotlib.pyplot as plt\n",
    "plt.style.use('ggplot')"
   ]
  },
  {
   "cell_type": "markdown",
   "id": "54199181-bd25-4baf-a9e9-35d93f691944",
   "metadata": {},
   "source": [
    "df = pd.read_csv(data_file)\n",
    "df.columns = ['Sex','Age','Height','Weight',\"BMI\"]\n",
    "\n",
    "#Drop missing rows\n",
    "df = df.dropna()\n",
    "\n",
    "df.head(5)"
   ]
  },
  {
   "cell_type": "markdown",
   "id": "d258f85e-1c16-4248-91ed-7a75a9d3c9d7",
   "metadata": {},
   "source": [
    "#Get an overview of data\n",
    "df.describe()"
   ]
  },
  {
   "cell_type": "markdown",
   "id": "0f94c937-6f56-4b02-b3f4-0bd5ee8b8c71",
   "metadata": {},
   "source": [
    "colors = [( 1- (BMI-13)/14,0,0) for BMI in df.BMI.values]\n",
    "fig,ax = plt.subplots()\n",
    "ax.scatter(df['Weight'].values,df['Height'].values,c = colors, picker = True)\n",
    "ax.set_xlabel('Weight')\n",
    "ax.set_ylabel('Height')\n",
    "_ = ax.set_title('BMI distribution')"
   ]
  },
  {
   "cell_type": "markdown",
   "id": "be3761ed-ca2e-47c2-b9fb-ea3315332223",
   "metadata": {},
   "source": [
    "train_pct = 0.8\n",
    "train_index = int(len(df)*train_pct)\n",
    "\n",
    "train_data = df.iloc[:train_index].copy()\n",
    "validation_data = df.iloc[train_index:].copy()\n",
    "print(f'train = {len(train_data)},\\nvalidation = {len(validation_data)}')"
   ]
  },
  {
   "cell_type": "markdown",
   "id": "f4de64d3-b8fb-4fd9-9f18-11777d0352a9",
   "metadata": {},
   "source": [
    "def reset():\n",
    "    global w1,w2,w3,bias\n",
    "    w1  = np.random.randn()\n",
    "    w2  = np.random.randn()\n",
    "    w3  = np.random.randn()\n",
    "    bias  = np.random.randn()\n",
    "\n",
    "reset()\n",
    "\n",
    "print_weight = lambda : print('w1 = {},\\nw2 = {},\\nw3 = {},\\nbias = {}'.format(w1,w2,w3,bias))\n",
    "print_weight()"
   ]
  },
  {
   "cell_type": "markdown",
   "id": "43b82a6b-3eac-4707-9b8a-9f61460eb943",
   "metadata": {},
   "source": [
    "def normalize(df, means, stds):\n",
    "    #print(means)\n",
    "    df['Weight'] = (df['Weight'] - means.Weight)/stds.Weight\n",
    "    df['Height'] = (df['Height'] - means.Height)/stds.Height\n",
    "    df['Age'] = (df['Age'] - means.Age)/stds.Age\n",
    "    if 'BMI' in df.columns:\n",
    "        df['BMI'] = (df['BMI'] - means.BMI)/stds.BMI\n",
    "    df.head()\n",
    "\n",
    "def de_normalize(df, means, stds):\n",
    "    #print(means)\n",
    "    df = df.copy()\n",
    "    df['Weight'] = df['Weight'] *stds.Weight + means.Weight\n",
    "    df['Height'] = df['Height'] *stds.Height + means.Height\n",
    "    df['Age'] = df['Age'] *stds.Age + means.Age\n",
    "    if 'BMI' in df.columns:\n",
    "        df['BMI'] = df['BMI'] *stds.BMI + means.BMI\n",
    "    if 'predictionBMI' in df.columns:\n",
    "        df['predictionBMI'] = df['predictionBMI'] *stds.BMI + means.BMI\n",
    "        \n",
    "    return df"
   ]
  },
  {
   "cell_type": "markdown",
   "id": "566465e3-b2df-46be-bd4e-87468686f665",
   "metadata": {},
   "source": [
    "means = train_data.mean()\n",
    "stds = train_data.std()\n",
    "normalize(train_data,means,stds)\n",
    "print('Normalized train data')\n",
    "train_data.head()"
   ]
  },
  {
   "cell_type": "markdown",
   "id": "6a658bb6-f20e-47aa-921c-091bb9bc3d36",
   "metadata": {},
   "source": [
    "normalize(validation_data,means,stds)\n",
    "print('Normalized test data')\n",
    "validation_data.head()"
   ]
  },
  {
   "cell_type": "markdown",
   "id": "83de7d2d-c704-482c-9ff8-d3a37bd33fba",
   "metadata": {},
   "source": [
    "def predict_BMI(df):\n",
    "    pred = w1 * df['Height'] + w2 *df['Weight'] + w3 * df['Age'] + bias \n",
    "    df['predictionBMI'] = pred\n",
    "    return df\n",
    "\n",
    "\n",
    "print('Random weights predictions')\n",
    "preddf = predict_BMI(train_data)\n",
    "preddf.head()"
   ]
  },
  {
   "cell_type": "markdown",
   "id": "81e9ef7d-3af4-4923-b7a2-1f39633a8f17",
   "metadata": {},
   "source": [
    "def calculate_loss(df):\n",
    "    return np.square(df['predictionBMI'] - df['BMI'])\n",
    "\n",
    "preddf = predict_BMI(train_data)\n",
    "print('loss = ', calculate_loss(preddf).mean())"
   ]
  },
  {
   "cell_type": "markdown",
   "id": "e6ba9d88-efbb-43c8-ae44-bd37a92754ab",
   "metadata": {},
   "source": [
    "def calculate_gradients(df):\n",
    "    diff = df['predictionBMI'] - df['BMI']\n",
    "    dw1 = 2 * diff *df['Height']\n",
    "    dw2 = 2 * diff *df['Weight']\n",
    "    dw3 = 2 * diff *df['Age']\n",
    "    dbias = 2* diff\n",
    "    dw1,dw2,dw3 , dbias  =  dw1.values.mean(),dw2.values.mean(),dw3.values.mean(),dbias.values.mean()\n",
    "    #print(dw1,dw2,dw3 , dbias) \n",
    "    return dw1,dw2,dw3 , dbias "
   ]
  },
  {
   "cell_type": "markdown",
   "id": "2f7754f3-ba7b-48ee-8403-a25006cd8746",
   "metadata": {},
   "source": [
    "def train(learning_rate = 0.01):\n",
    "    global w1, w2, w3, bias, preddf\n",
    "    dw1,dw2,dw3 , dbias = calculate_gradients(preddf)\n",
    "    w1 = w1 - dw1*learning_rate \n",
    "    w2 = w2 - dw2 * learning_rate \n",
    "    w3 = w3 - dw3 * learning_rate \n",
    "    bias = bias - dbias.mean() * learning_rate \n",
    "    #print(w1, w2, w3, bias)\n",
    "    preddf = predict_BMI(train_data)\n",
    "    return calculate_loss(preddf).mean()"
   ]
  },
  {
   "cell_type": "markdown",
   "id": "33e04c3f-9155-4330-9a5e-4ad011ff1f95",
   "metadata": {},
   "source": [
    "print('\\nPrediction on validation set before training')\n",
    "de_normalize(predict_BMI(validation_data),means,stds).head(10)"
   ]
  },
  {
   "cell_type": "markdown",
   "id": "27c8dca9-75de-41bc-8dae-10706796e00f",
   "metadata": {},
   "source": [
    "import time, math\n",
    "from tqdm.notebook import  tqdm\n",
    "\n",
    "learning_rate = 0.01\n",
    "\n",
    "for i in tqdm(range(300)):\n",
    "    loss = train(learning_rate)\n",
    "    time.sleep(0.01)\n",
    "    if i%20 ==0:\n",
    "        print(f'epoch : {i} : loss = {loss}')"
   ]
  },
  {
   "cell_type": "markdown",
   "id": "155306e7-7088-4516-9015-52a8b6575eeb",
   "metadata": {},
   "source": [
    "print('after training')\n",
    "print_weight()"
   ]
  },
  {
   "cell_type": "markdown",
   "id": "d5e77be1-d6b1-45fe-ad22-a12f6f899598",
   "metadata": {},
   "source": [
    "print('\\nPrediction on validation set after training')\n",
    "de_normalize(predict_BMI(validation_data),means,stds).head(10)"
   ]
  },
  {
   "cell_type": "markdown",
   "id": "f68c8903-c009-401a-ac0e-e14ea53d1b7e",
   "metadata": {},
   "source": [
    "def predictBMI_real(data):\n",
    "    df = pd.DataFrame(data)\n",
    "    normalize(df,means, stds)\n",
    "    return de_normalize(predict_BMI(df),means, stds)"
   ]
  },
  {
   "cell_type": "markdown",
   "id": "af05c5c0-1630-4a14-9592-505248c5b599",
   "metadata": {},
   "source": [
    "new_data = [{'name' :'Yuyun', 'Age': 21, 'Height': 168, 'Weight': 57}]\n",
    "predictBMI_real(new_data)"
   ]
  },
  {
   "cell_type": "markdown",
   "id": "3411ff46-cd5e-461d-9587-9d404a1b8103",
   "metadata": {},
   "source": [
    "def calculate_loss(df):\n",
    "    return np.square(df['predictionBMI'] - df['BMI'])\n",
    "\n",
    "preddf = predict_BMI(train_data)\n",
    "print('loss = ', calculate_loss(preddf).mean())"
   ]
  }
 ],
 "metadata": {
  "kernelspec": {
   "display_name": "Python 3",
   "language": "python",
   "name": "python3"
  },
  "language_info": {
   "codemirror_mode": {
    "name": "ipython",
    "version": 3
   },
   "file_extension": ".py",
   "mimetype": "text/x-python",
   "name": "python",
   "nbconvert_exporter": "python",
   "pygments_lexer": "ipython3",
   "version": "3.9.2"
  }
 },
 "nbformat": 4,
 "nbformat_minor": 5
}
